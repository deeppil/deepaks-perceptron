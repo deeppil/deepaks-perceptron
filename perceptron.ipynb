{
  "nbformat": 4,
  "nbformat_minor": 0,
  "metadata": {
    "colab": {
      "provenance": [],
      "authorship_tag": "ABX9TyOdcGSO4bUwmnMWsWM3VVC4"
    },
    "kernelspec": {
      "name": "python3",
      "display_name": "Python 3"
    },
    "language_info": {
      "name": "python"
    }
  },
  "cells": [
    {
      "cell_type": "code",
      "source": [
        "import numpy as np\n",
        "class Perceptron(object):\n",
        "  def __init__(self, eta=0.01, n_iter=10):\n",
        "    self.eta = eta\n",
        "    self.n_iter = n_iter\n",
        "\n",
        "  def weighted_sum(self, X):\n",
        "    return np.dot(X, self.w_[1:]) + self.w_[0]\n",
        "\n",
        "  def predict(self, X):\n",
        "    return np.where(self.weighted_sum(X) >= 0.0, 1, -1)\n",
        "\n",
        "  def fit(self, X, y):\n",
        "    self.w_ = np.zeros(1 + X.shape[1])\n",
        "    self.errors = []\n",
        "\n",
        "    print(\"Weights: \", self.w_)\n",
        "\n",
        "    for _ in range(self.n_iter):\n",
        "      error = 0\n",
        "      for xi,y in zip(X,y):\n",
        "        y_pred = self.predict(xi)\n",
        "\n",
        "\n",
        "\n",
        "\n"
      ],
      "metadata": {
        "id": "uRBehXmElvkO"
      },
      "execution_count": null,
      "outputs": []
    }
  ]
}